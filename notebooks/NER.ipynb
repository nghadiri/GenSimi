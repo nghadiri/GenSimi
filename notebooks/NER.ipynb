{
 "cells": [
  {
   "cell_type": "markdown",
   "metadata": {
    "colab_type": "text",
    "id": "view-in-github"
   },
   "source": [
    "<a href=\"https://colab.research.google.com/github/HodaMemar/Patient-Similarity-through-Representation/blob/main/NER.ipynb\" target=\"_parent\"><img src=\"https://colab.research.google.com/assets/colab-badge.svg\" alt=\"Open In Colab\"/></a>"
   ]
  },
  {
   "cell_type": "markdown",
   "metadata": {
    "id": "Jr7DmnVjVSpt"
   },
   "source": [
    "\n",
    "\n",
    "```\n",
    "# This is formatted as code\n",
    "```\n",
    "\n",
    "# **Preprocessing Unstructured data**\n",
    "\n",
    "Step 1: Detect sections in Clinical Notes\n"
   ]
  },
  {
   "cell_type": "code",
   "execution_count": null,
   "metadata": {
    "id": "aK-XXP1UFes5"
   },
   "outputs": [],
   "source": [
    "from google.colab import drive\n",
    "drive.mount('/content/mydrive/')\n",
    "!ls\n"
   ]
  },
  {
   "cell_type": "code",
   "execution_count": null,
   "metadata": {
    "id": "nCTPUgxJH7Zy"
   },
   "outputs": [],
   "source": [
    "!pip install medspacy\n"
   ]
  },
  {
   "cell_type": "code",
   "execution_count": 1,
   "metadata": {
    "id": "SlcrPq9R0ql8"
   },
   "outputs": [],
   "source": [
    "import pandas as pd"
   ]
  },
  {
   "cell_type": "code",
   "execution_count": 6,
   "metadata": {
    "id": "wBRUiE4Nhreb"
   },
   "outputs": [],
   "source": [
    "with open(\"F:\\C\\Data\\Hm2\\\\new1.txt\") as f:\n",
    "    text = f.read()"
   ]
  },
  {
   "cell_type": "code",
   "execution_count": 7,
   "metadata": {},
   "outputs": [
    {
     "data": {
      "text/plain": [
       "'XXXXXXXX   XXXXXXXXXXXXXXXXXX            XXXX XXXXXXXXX            XXXX XXXXXXX                  \\nAge:   49 years     Sex:  Male     XXXX  XXXXXXXXXX \\nAssociated Diagnoses:   None \\nXXXXXXX   XXXXXXXXXXXXXXXXX XXXXXXXXX XXXXXXX XXXXXXXX \\n \\nXXXXX XXXXXXX \\n \\n\\nXXXXXXXXXXXXXXXXXX                                 \\nXXXXXXXXXXXXXXXXXXXXX XXXXXXXXXXX                                                                    \\nXXXXXXXXXXXX            \\n\\nXXXXXXXXX XXX XXXX                 XXXXXXXXXXXX XXXXX XXXXXXXXX XXXXXXX         \\nXXXXXXXXXXXXXXXXXXXX XXXXX XXXXXXXXXXXXXXXXXXX XXXXXXXX XXXXXXXXXXXXXXX           \\n \\nXXXXXXXXX XXXX  XXXXXXXXXX \\nXXXXXXXXX XXX XXXX \\n \\n\\nXX XXXXXXXX X XXXXXXXXX XXXXX XXXX X XXXXXXXXXX XXXXXXX XXXXXXXX \\n            XXXXXXXXXXXXXX XXX XXXX X XXXXXXXX XXXXXX XX XXXXX XXXXXXXX \\nXX XXXXXX XXX XXXX XXXX X XXXXXXXXXXX XXXXXXXXX XXX \\nXXX XXXXXX  XXXX XXXXXXXX\\n\\nXXXXXXX XXXXXXXXXXXXX XXXXXXXXXXXXXXX \\nXX XXXXXXXX XXXXXXXXXXXXXXXXXXXXXXXXXXX \\n            XXXXXXXXXXXXX \\n            XXXXXXXXXXXXXXXXXXXXXXX \\nXX XXXXXX XXXXXXXXXXXXXX XX XXXX  XXXXXXXXXXXX\\n \\n \\nADMISSION SUMMARY \\n \\nPresenting Problems   \\nVentral hernias \\n \\nPRINCIPAL DIAGNOSIS   \\nElective repair of recurrent ventral hernias \\n \\nPrincipal Procedure \\nOpen mesh repair multiple ventral hernias  \\n \\nComplications and co-morbidities: New or requiring changes to treatment  \\n. \\n \\nCONTINUED CARE RECOMMENDATIONS \\n \\nPerson to contact regarding this Discharge: \\n################# (Resident Medical Officer) : Position Resident Medical Officer, Phone/Pager number:  ######. \\n \\nCLINICAL HISTORY \\n \\nSummary of Progress   \\nDear Doctor,\\n\\nThank you for your ongoing care of #################, a lovely 49 year old gentleman admitted to ##################### on the #### of ######### under the care of Dr ######## (Upper GI Surgical Consultant) for an elective repair of recurrent ventral hernias. The operation was performed on the #### of ######### without any intraoperative complications. Following the procedure, Mr ##### was remained on the ward for 8 days, where he received appropriate analgesia, anti-emetics, and DVT prophylaxis. His 3x JP drains and Prevena dressing were able to be removed with nil complications. He was able to be upgraded to a light diet with minimal pain and nausea at rest. \\n\\nMr ##### was considered fit for discharge on the ##################, with the following discharge plan - \\n\\nDischarge plan for Mr #####\\n\\n1. Safe for discharge home today \\n\\n2. Nil new discharge medications\\n\\tPain relief:\\n\\t- Please use simple analgesia - 1000mg paracetamol, four times a day, as needed\\n\\t- Follow up with your regular GP if you require further pain review\\n\\t\\n3. Follow up with regular GP within 3-5 days to review progress and medications \\n\\n4. Follow up with regular GP next Wednesday the #### of August for clips out\\n\\n5. Follow up with Dr ######## within 14 days \\n \\t- Please call ######### 6921 to make an appointment \\n \\t- Address: #############, Campbelltown NSW 2560 \\n\\n6. Mr #####, please seek medical attention if you have any symptoms (e.g. bleeding, increasing pain, fevers) or concerns\\n\\nIt has been pleasure taking care of Mr #####.\\n\\nKind regards,\\n\\n############\\nUpper GI RMO \\non behalf of Dr. ######## \\nUpper GI Consultant \\n##################### \\n*******************************************************\\nOperation Note \\n \\nDate of Operation: ########## . \\nSurgeons \\nSurgeon Incharge: FEDORINE, SERGUEI.  Operating Surgeon(s) FEDORINE, SERGUEI  (Consultant).  Assisting Surgeon/s: ############  (Trainee Specialist).   \\nOperation Status \\nUnplanned return to operating theatre: No.  Operation Type: Elective.  Wound classification: Clean.   \\nIndications/Background \\nPrevious incarcerated ventral hernia repair\\nPresents for elective repair of recurrent ventral hernias - multiple defects\\nBotox #### prior to procedure \\nPrimary Operation Performed \\nSupine / GA / IV abx / TEDs & SCDs / NGT / IDC / Art line / Time out / Prep and drape\\n\\nIncision\\nMidline laparotomy \\n\\nFindings\\nMultiple ventral abdominal wall hernia defects, 10-12\\nContaining small and large bowel \\nAll contents reduced once abdominal cavity opened\\nExtensive, dense anterior and lateral wall adhesions\\n\\nProcedure\\nCareful cut down in layers commencing cranial end of wound \\n(Imaging demonstrated safest area for entry)\\nExtensive adhesiolysis mobilising small and large bowel from abdominal wall\\nRetrorectus space opened\\nTransversus abdominus release performed\\nPeritoneal defects closed with multiple  3-0 Maxon sutures\\nPeritoneum closed with 0 PDS and pre-peritoneal plane established\\nThen 30cm mesh placement as sublay into rectrorectus/pre-peritoneal space\\nMesh used was Phasix ST attached to Bard microporous sheet using sutures\\nWash and meticulous haemostasis\\nThree JP drains inserted and secured with 2-0 Silk\\n    1. RUQ - lies on top of mesh\\n    2. LUQ - lies left side subcutaneous space\\n    3. RLQ - lies right side subcutaneous space\\n\\nClosure \\nFascia closed with 1 PDS continuous\\nMultiple interrupted 1 PDS sutures in between continuous\\nScarpas closed with 2-0 Vicryl\\nSkin closed with clips\\nPraveena dressing, seal achieved\\n  \\n                                                           Item Numbers: 30,655 , 30,725 .   \\nNo specimens sent to ######### \\nPost Operative Orders \\nPost GA obs\\nAim to ### - review in recovery\\nNBM\\nIf extubated can have ice to suck\\nNGT on free drain with q4hr aspirates\\nDrains on suction please\\nStrict drain outputs recorded please\\nIDC output measurements please\\nPCA for analgesia\\nCommence DVT prophylaxis with Heparin 5000IU s/c from tonight\\nTEDs and SCDs\\nBloods tomorrow please   \\n  \\nSummary of Progress   \\nDear Doctor,\\n\\nThank you for your ongoing care of #################, a lovely 49 year old gentleman admitted to ##################### on the #### of ######### under the care of Dr ######## (Upper GI Surgical Consultant) for an elective repair of recurrent ventral hernias. The operation was performed on the #### of ######### without any intraoperative complications. Following the procedure, Mr ##### was remained on the ward for 8 days, where he received appropriate analgesia, anti-emetics, and DVT prophylaxis. His 3x JP drains and Prevena dressing were able to be removed with nil complications. He was able to be upgraded to a light diet with minimal pain and nausea at rest. \\n\\nMr ##### was considered fit for discharge on the ##################, with the following discharge plan - \\n\\nDischarge plan for Mr #####\\n\\n1. Safe for discharge home today \\n\\n2. Nil new discharge medications\\n\\tPain relief:\\n\\t- Please use simple analgesia - 1000mg paracetamol, four times a day, as needed\\n\\t- Follow up with your regular GP if you require further pain review\\n\\t\\n3. Follow up with regular GP within 3-5 days to review progress and medications \\n\\n4. Follow up with Dr ######## in 10-14 days \\n \\t- Please call ######### 6921 to make an appointment \\n \\t- Address: #################################### \\n\\n5. Mr #####, please seek medical attention if you have any symptoms (e.g. bleeding, increasing pain, fevers) or concerns\\n\\nIt has been pleasure taking care of Mr #####.\\n\\nKind regards,\\n\\n############\\nUpper GI RMO \\non behalf of Dr. ######## \\nUpper GI Consultant \\n##################### \\n*******************************************************\\nOperation Note \\n \\nDate of Operation: ########## . \\nSurgeons \\nSurgeon Incharge: FEDORINE, SERGUEI.  Operating Surgeon(s) FEDORINE, SERGUEI  (Consultant).  Assisting Surgeon/s: ############  (Trainee Specialist).   \\nOperation Status \\nUnplanned return to operating theatre: No.  Operation Type: Elective.  Wound classification: Clean.   \\nIndications/Background \\nPrevious incarcerated ventral hernia repair\\nPresents for elective repair of recurrent ventral hernias - multiple defects\\nBotox #### prior to procedure \\nPrimary Operation Performed \\nSupine / GA / IV abx / TEDs & SCDs / NGT / IDC / Art line / Time out / Prep and drape\\n\\nIncision\\nMidline laparotomy \\n\\nFindings\\nMultiple ventral abdominal wall hernia defects, 10-12\\nContaining small and large bowel \\nAll contents reduced once abdominal cavity opened\\nExtensive, dense anterior and lateral wall adhesions\\n\\nProcedure\\nCareful cut down in layers commencing cranial end of wound \\n(Imaging demonstrated safest area for entry)\\nExtensive adhesiolysis mobilising small and large bowel from abdominal wall\\nRetrorectus space opened\\nTransversus abdominus release performed\\nPeritoneal defects closed with multiple  3-0 Maxon sutures\\nPeritoneum closed with 0 PDS and pre-peritoneal plane established\\nThen 30cm mesh placement as sublay into rectrorectus/pre-peritoneal space\\nMesh used was Phasix ST attached to Bard microporous sheet using sutures\\nWash and meticulous haemostasis\\nThree JP drains inserted and secured with 2-0 Silk\\n    1. RUQ - lies on top of mesh\\n    2. LUQ - lies left side subcutaneous space\\n    3. RLQ - lies right side subcutaneous space\\n\\nClosure \\nFascia closed with 1 PDS continuous\\nMultiple interrupted 1 PDS sutures in between continuous\\nScarpas closed with 2-0 Vicryl\\nSkin closed with clips\\nPraveena dressing, seal achieved\\n  \\n                                                           Item Numbers: 30,655 , 30,725 .   \\nNo specimens sent to ######### \\nPost Operative Orders \\nPost GA obs\\nAim to ### - review in recovery\\nNBM\\nIf extubated can have ice to suck\\nNGT on free drain with q4hr aspirates\\nDrains on suction please\\nStrict drain outputs recorded please\\nIDC output measurements please\\nPCA for analgesia\\nCommence DVT prophylaxis with Heparin 5000IU s/c from tonight\\nTEDs and SCDs\\nBloods tomorrow please   \\n  \\n \\nALLERGIES & ADVERSE REACTIONS \\nAllergies \\nAllergic Reactions (Selected)\\nSeverity Not Documented\\nPenicillin- No reactions were documented. \\n \\nMEDICATIONS \\n \\nDischarge Medications \\n\\nThe hospital may have supplied small quantities of new or changed medicines \\n\\nMedication being taken on discharge \\n\\n Empagliflozin-metformin  (Jardiamet 12.5 mg-1000 mg oral tablet)    1 tab, Oral, Tablet, 2 times a day\\n\\n Paracetamol  (paracetamol 500 mg oral tablet)    2 tab, Oral, Tablet, 4 times a day, PRN for Pain, Indication : pain\\n\\n Telmisartan  (telmisartan 40 mg oral tablet)    1 tab, Oral, Tablet, in the morning\\n\\nMedication previously recorded that has not been reviewed during this visit \\nNil\\nMedication ceased during this admission \\nNil \\n \\nINTERVENTION & RESULTS \\n \\nResults \\n########## 08:01|Sodium|140 mmol/L|\\n|Potassium|4.6 mmol/L|\\n|Chloride|100 mmol/L|\\n|Bicarbonate|31 mmol/L|\\n|Urea|2.9 mmol/L  LOW|\\n|Creatinine|61 ï¿½mol/L|\\n|Estimated GFR|>90 mL/min/1.73mï¿½|\\n|Bilirubin Total|7 ï¿½mol/L|\\n|Albumin|31 g/L  LOW|\\n|Protein|62 g/L|\\n|ALP|79 U/L|\\n|Gamma GT|21 U/L|\\n|ALT|42 U/L|\\n|AST|29 U/L|\\n|Calcium|2.22 mmol/L|\\n|Corrected Calcium|2.40 mmol/L|\\n|Magnesium|0.83 mmol/L|\\n|Phosphate|0.88 mmol/L|\\n|WCC|6.5 x10^9/L|\\n|HB|134 g/L|\\n|PLT|297 x10^9/L|\\n|PCV|0.39 L/L  LOW|\\n|MCV|90 fL|\\n|RCC|4.31 x10^12/L  LOW|\\n|MCH|31.1 pg|\\n|MCHC|344 g/L|\\n|RDW|13.3 %|\\n|Neutrophils|4.6 x10^9/L|\\n|Lymphocytes|1.2 x10^9/L|\\n|Monocytes|0.6 x10^9/L|\\n|Eosinophils|0.2 x10^9/L|\\n|Basophils|0.0 x10^9/L|\\n|Normoblast|0.01 x10^9/L  NA|\\n|Blood Film|Film Not Reviewed|\\n|C Reactive Protein|76.7 mg/L  HI|\\n########## 14:12|Resp Culture|NEG|\\n########## 14:00|Respiratory Pathogen DNA/RNA Source|Nose and Throat|\\n|Respiratory Influenza A RNA|Not Detected|\\n|Respiratory Influenza B RNA|Not Detected|\\n|Respiratory Syncytial Virus RNA|Not Detected|\\n|Respiratory Adenovirus DNA|Not Detected|\\n|Respiratory Metapneumovirus RNA|Not Detected|\\n|Respiratory Parainfluenza 1 RNA|Not Detected|\\n|Respiratory Parainfluenza 2 RNA|Not Detected|\\n|Respiratory Parainfluenza 3 RNA|Not Detected|\\n|Respiratory Parainfluenza 4 RNA|Not Detected|\\n|Respiratory Rhino/Enterovirus RNA|Not Detected|\\n########## 13:50|Urine Culture|NEG|\\n|Urine Microscopy White Cell Count|10-100 x10^6/L|\\n|Urine Microscopy Red Cell Count|>100 x10^6/L|\\n|Urine Microscopy Epithelial Cell Count|<10 x10^6/L|\\n########## 07:27|WCC|6.9 x10^9/L|\\n|C Reactive Protein|233.5 mg/L  HI|\\n########## 07:28|Sodium|136 mmol/L|\\n|Potassium|4.4 mmol/L|\\n|Chloride|100 mmol/L|\\n|Bicarbonate|28 mmol/L|\\n|Urea|5.0 mmol/L|\\n|Creatinine|64 ï¿½mol/L|\\n|Estimated GFR|>90 mL/min/1.73mï¿½|\\n|Bilirubin Total|16 ï¿½mol/L|\\n|Albumin|33 g/L|\\n|Protein|56 g/L  LOW|\\n|ALP|60 U/L|\\n|Gamma GT|12 U/L|\\n|ALT|32 U/L|\\n|AST|21 U/L|\\n|Calcium|2.15 mmol/L|\\n|Corrected Calcium|2.29 mmol/L|\\n|Magnesium|0.82 mmol/L|\\n|Phosphate|0.82 mmol/L|\\n|WCC|7.0 x10^9/L|\\n|HB|140 g/L|\\n|PLT|167 x10^9/L|\\n|PCV|0.40 L/L|\\n|MCV|89 fL|\\n|RCC|4.54 x10^12/L|\\n|MCH|30.8 pg|\\n|MCHC|347 g/L|\\n|RDW|13.4 %|\\n|Neutrophils|5.3 x10^9/L|\\n|Lymphocytes|0.9 x10^9/L  LOW|\\n|Monocytes|0.8 x10^9/L|\\n|Eosinophils|0.0 x10^9/L|\\n|Basophils|0.0 x10^9/L|\\n|Normoblast|0.00 x10^9/L  NA|\\n|Blood Film|Film Not Reviewed|\\n|C Reactive Protein|121.9 mg/L  HI|\\n \\n \\nMedical Imaging   \\nX-Ray Chest\\n##########, 12:33 PM\\n\\nReason for examination: \\nCH: Septic screen\\nGCH: # R 3rd & 4TH Proximal Phalanges\\n \\nThe heart size is within normal limits.\\nThe lungs and pleural spaces are clear.\\nThe nasogastric tube is noted in position.\\nThere are minor atelectatic changes at both lung bases\\n\\nX-Ray Chest\\n##########, 6:05 PM\\n\\nReason for examination: \\nCH: 49 M recurrent fevers\\n? chest source\\nGCH: # R 3rd & 4TH Proximal Phalanges\\n \\nPA erect Chest Xray \\nHeart size is normal . The cardiomediastinal contour is within normal limits. Bands of atelectasis extending from the left upper zone to left mid zone and left mid zone to the left lower zone. Atelectasis also seen in the right lower zone. No focal consolidation, sizeable pleural effusion or pneumothorax.\\n  \\n \\nNumber of copies to print:  2 '"
      ]
     },
     "execution_count": 7,
     "metadata": {},
     "output_type": "execute_result"
    }
   ],
   "source": [
    "text"
   ]
  },
  {
   "cell_type": "code",
   "execution_count": null,
   "metadata": {
    "id": "_Hvh01j0yiTM"
   },
   "outputs": [],
   "source": [
    "CATEGORY='Discharge summary'\n",
    "HADM_ID=159647\n",
    "CHARTDATE='2146/07/28'"
   ]
  },
  {
   "cell_type": "code",
   "execution_count": 8,
   "metadata": {
    "id": "MhxtBInDh1zQ"
   },
   "outputs": [],
   "source": [
    "import spacy;\n",
    "import medspacy\n",
    "# Option 1: Load default\n",
    "nlp = medspacy.load()\n",
    "\n"
   ]
  },
  {
   "cell_type": "code",
   "execution_count": 9,
   "metadata": {
    "id": "9b7tjhhYjbd1"
   },
   "outputs": [],
   "source": [
    "sectionizer = nlp.add_pipe(\"medspacy_sectionizer\")"
   ]
  },
  {
   "cell_type": "markdown",
   "metadata": {
    "id": "5NNORp421Rmm"
   },
   "source": []
  },
  {
   "cell_type": "code",
   "execution_count": 10,
   "metadata": {
    "id": "Bx68QnaZqvbe"
   },
   "outputs": [
    {
     "data": {
      "text/plain": [
       "['medspacy_pyrush',\n",
       " 'medspacy_target_matcher',\n",
       " 'medspacy_context',\n",
       " 'medspacy_sectionizer']"
      ]
     },
     "execution_count": 10,
     "metadata": {},
     "output_type": "execute_result"
    }
   ],
   "source": [
    "nlp.pipe_names"
   ]
  },
  {
   "cell_type": "code",
   "execution_count": 11,
   "metadata": {
    "id": "T5rAB1kIjhxo"
   },
   "outputs": [],
   "source": [
    "doc = nlp(text)"
   ]
  },
  {
   "cell_type": "code",
   "execution_count": 12,
   "metadata": {
    "id": "fV58jeqKwlyH"
   },
   "outputs": [
    {
     "data": {
      "text/plain": [
       "9"
      ]
     },
     "execution_count": 12,
     "metadata": {},
     "output_type": "execute_result"
    }
   ],
   "source": [
    "len(doc._.sections)"
   ]
  },
  {
   "cell_type": "code",
   "execution_count": 13,
   "metadata": {
    "id": "2wFw3ZUj1eX1"
   },
   "outputs": [
    {
     "data": {
      "text/plain": [
       "for Mr #####\n",
       "\n",
       "1. Safe for discharge home today \n",
       "\n",
       "2. Nil new discharge medications\n",
       "\tPain relief:\n",
       "\t- Please use simple analgesia - 1000mg paracetamol, four times a day, as needed\n",
       "\t- Follow up with your regular GP if you require further pain review\n",
       "\t\n",
       "3. Follow up with regular GP within 3-5 days to review progress and medications \n",
       "\n",
       "4. Follow up with regular GP next Wednesday the #### of August for clips out\n",
       "\n",
       "5. Follow up with Dr ######## within 14 days \n",
       " \t- Please call ######### 6921 to make an appointment \n",
       " \t- Address: #############, Campbelltown NSW 2560 \n",
       "\n",
       "6. Mr #####, please seek medical attention if you have any symptoms (e.g. bleeding, increasing pain, fevers) or concerns\n",
       "\n",
       "It has been pleasure taking care of Mr #####.\n",
       "\n",
       "Kind regards,\n",
       "\n",
       "############\n",
       "Upper GI RMO \n",
       "on behalf of Dr. ######## \n",
       "Upper GI Consultant \n",
       "##################### \n",
       "*******************************************************\n",
       "Operation Note \n",
       " \n",
       "Date of Operation: ########## . \n",
       "Surgeons \n",
       "Surgeon Incharge: FEDORINE, SERGUEI.  Operating Surgeon(s) FEDORINE, SERGUEI  (Consultant).  Assisting Surgeon/s: ############  (Trainee Specialist).   \n",
       "Operation Status \n",
       "Unplanned return to operating theatre: No.  Operation Type: Elective.  Wound classification: Clean.   \n",
       "Indications/Background \n",
       "Previous incarcerated ventral hernia repair\n",
       "Presents for elective repair of recurrent ventral hernias - multiple defects\n",
       "Botox #### prior to procedure \n",
       "Primary Operation Performed \n",
       "Supine / GA / IV abx / TEDs & SCDs / NGT / IDC / Art line / Time out / Prep and drape\n",
       "\n",
       "Incision\n",
       "Midline laparotomy \n",
       "\n",
       "Findings\n",
       "Multiple ventral abdominal wall hernia defects, 10-12\n",
       "Containing small and large bowel \n",
       "All contents reduced once abdominal cavity opened\n",
       "Extensive, dense anterior and lateral wall adhesions\n",
       "\n",
       "Procedure\n",
       "Careful cut down in layers commencing cranial end of wound \n",
       "(Imaging demonstrated safest area for entry)\n",
       "Extensive adhesiolysis mobilising small and large bowel from abdominal wall\n",
       "Retrorectus space opened\n",
       "Transversus abdominus release performed\n",
       "Peritoneal defects closed with multiple  3-0 Maxon sutures\n",
       "Peritoneum closed with 0 PDS and pre-peritoneal plane established\n",
       "Then 30cm mesh placement as sublay into rectrorectus/pre-peritoneal space\n",
       "Mesh used was Phasix ST attached to Bard microporous sheet using sutures\n",
       "Wash and meticulous haemostasis\n",
       "Three JP drains inserted and secured with 2-0 Silk\n",
       "    1. RUQ - lies on top of mesh\n",
       "    2. LUQ - lies left side subcutaneous space\n",
       "    3. RLQ - lies right side subcutaneous space\n",
       "\n",
       "Closure \n",
       "Fascia closed with 1 PDS continuous\n",
       "Multiple interrupted 1 PDS sutures in between continuous\n",
       "Scarpas closed with 2-0 Vicryl\n",
       "Skin closed with clips\n",
       "Praveena dressing, seal achieved\n",
       "  \n",
       "                                                           Item Numbers: 30,655 , 30,725 .   \n",
       "No specimens sent to ######### \n",
       "Post Operative Orders \n",
       "Post GA obs\n",
       "Aim to ### - review in recovery\n",
       "NBM\n",
       "If extubated can have ice to suck\n",
       "NGT on free drain with q4hr aspirates\n",
       "Drains on suction please\n",
       "Strict drain outputs recorded please\n",
       "IDC output measurements please\n",
       "PCA for analgesia\n",
       "Commence DVT prophylaxis with Heparin 5000IU s/c from tonight\n",
       "TEDs and SCDs\n",
       "Bloods tomorrow please   \n",
       "  \n",
       "Summary of Progress   \n",
       "Dear Doctor,\n",
       "\n",
       "Thank you for your ongoing care of #################, a lovely 49 year old gentleman admitted to ##################### on the #### of ######### under the care of Dr ######## (Upper GI Surgical Consultant) for an elective repair of recurrent ventral hernias. The operation was performed on the #### of ######### without any intraoperative complications. Following the procedure, Mr ##### was remained on the ward for 8 days, where he received appropriate analgesia, anti-emetics, and DVT prophylaxis. His 3x JP drains and Prevena dressing were able to be removed with nil complications. He was able to be upgraded to a light diet with minimal pain and nausea at rest. \n",
       "\n",
       "Mr ##### was considered fit for discharge on the ##################, with the following"
      ]
     },
     "execution_count": 13,
     "metadata": {},
     "output_type": "execute_result"
    }
   ],
   "source": [
    "doc._.section_bodies[3]\n"
   ]
  },
  {
   "cell_type": "code",
   "execution_count": 14,
   "metadata": {
    "id": "UWiUXAgl1_0U"
   },
   "outputs": [
    {
     "data": {
      "text/plain": [
       "Discharge plan"
      ]
     },
     "execution_count": 14,
     "metadata": {},
     "output_type": "execute_result"
    }
   ],
   "source": [
    "doc._.section_titles[3]"
   ]
  },
  {
   "cell_type": "code",
   "execution_count": 17,
   "metadata": {},
   "outputs": [
    {
     "data": {
      "text/plain": [
       "[,\n",
       " Diagnoses:,\n",
       " discharge plan,\n",
       " Discharge plan,\n",
       " discharge plan,\n",
       " Discharge plan,\n",
       " ALLERGIES,\n",
       " Allergies,\n",
       " Indication :]"
      ]
     },
     "execution_count": 17,
     "metadata": {},
     "output_type": "execute_result"
    }
   ],
   "source": [
    "doc._.section_titles"
   ]
  },
  {
   "cell_type": "code",
   "execution_count": 18,
   "metadata": {
    "id": "CmcVd0HGwCWc"
   },
   "outputs": [
    {
     "data": {
      "text/plain": [
       "[None,\n",
       " 'diagnoses',\n",
       " 'observation_and_plan',\n",
       " 'observation_and_plan',\n",
       " 'observation_and_plan',\n",
       " 'observation_and_plan',\n",
       " 'allergies',\n",
       " 'allergies',\n",
       " 'labs_and_studies']"
      ]
     },
     "execution_count": 18,
     "metadata": {},
     "output_type": "execute_result"
    }
   ],
   "source": [
    "doc._.section_categories"
   ]
  },
  {
   "cell_type": "code",
   "execution_count": 19,
   "metadata": {
    "id": "3pv_leoXwJvE"
   },
   "outputs": [
    {
     "data": {
      "text/plain": [
       "[XXXXXXXX   XXXXXXXXXXXXXXXXXX            XXXX XXXXXXXXX            XXXX XXXXXXX                  \n",
       " Age:   49 years     Sex:  Male     XXXX  XXXXXXXXXX \n",
       " Associated,\n",
       " Diagnoses:   None \n",
       " XXXXXXX   XXXXXXXXXXXXXXXXX XXXXXXXXX XXXXXXX XXXXXXXX \n",
       "  \n",
       " XXXXX XXXXXXX \n",
       "  \n",
       " \n",
       " XXXXXXXXXXXXXXXXXX                                 \n",
       " XXXXXXXXXXXXXXXXXXXXX XXXXXXXXXXX                                                                    \n",
       " XXXXXXXXXXXX            \n",
       " \n",
       " XXXXXXXXX XXX XXXX                 XXXXXXXXXXXX XXXXX XXXXXXXXX XXXXXXX         \n",
       " XXXXXXXXXXXXXXXXXXXX XXXXX XXXXXXXXXXXXXXXXXXX XXXXXXXX XXXXXXXXXXXXXXX           \n",
       "  \n",
       " XXXXXXXXX XXXX  XXXXXXXXXX \n",
       " XXXXXXXXX XXX XXXX \n",
       "  \n",
       " \n",
       " XX XXXXXXXX X XXXXXXXXX XXXXX XXXX X XXXXXXXXXX XXXXXXX XXXXXXXX \n",
       "             XXXXXXXXXXXXXX XXX XXXX X XXXXXXXX XXXXXX XX XXXXX XXXXXXXX \n",
       " XX XXXXXX XXX XXXX XXXX X XXXXXXXXXXX XXXXXXXXX XXX \n",
       " XXX XXXXXX  XXXX XXXXXXXX\n",
       " \n",
       " XXXXXXX XXXXXXXXXXXXX XXXXXXXXXXXXXXX \n",
       " XX XXXXXXXX XXXXXXXXXXXXXXXXXXXXXXXXXXX \n",
       "             XXXXXXXXXXXXX \n",
       "             XXXXXXXXXXXXXXXXXXXXXXX \n",
       " XX XXXXXX XXXXXXXXXXXXXX XX XXXX  XXXXXXXXXXXX\n",
       "  \n",
       "  \n",
       " ADMISSION SUMMARY \n",
       "  \n",
       " Presenting Problems   \n",
       " Ventral hernias \n",
       "  \n",
       " PRINCIPAL DIAGNOSIS   \n",
       " Elective repair of recurrent ventral hernias \n",
       "  \n",
       " Principal Procedure \n",
       " Open mesh repair multiple ventral hernias  \n",
       "  \n",
       " Complications and co-morbidities: New or requiring changes to treatment  \n",
       " . \n",
       "  \n",
       " CONTINUED CARE RECOMMENDATIONS \n",
       "  \n",
       " Person to contact regarding this Discharge: \n",
       " ################# (Resident Medical Officer) : Position Resident Medical Officer, Phone/Pager number:  ######. \n",
       "  \n",
       " CLINICAL HISTORY \n",
       "  \n",
       " Summary of Progress   \n",
       " Dear Doctor,\n",
       " \n",
       " Thank you for your ongoing care of #################, a lovely 49 year old gentleman admitted to ##################### on the #### of ######### under the care of Dr ######## (Upper GI Surgical Consultant) for an elective repair of recurrent ventral hernias. The operation was performed on the #### of ######### without any intraoperative complications. Following the procedure, Mr ##### was remained on the ward for 8 days, where he received appropriate analgesia, anti-emetics, and DVT prophylaxis. His 3x JP drains and Prevena dressing were able to be removed with nil complications. He was able to be upgraded to a light diet with minimal pain and nausea at rest. \n",
       " \n",
       " Mr ##### was considered fit for discharge on the ##################, with the following,\n",
       " discharge plan - \n",
       " ,\n",
       " Discharge plan for Mr #####\n",
       " \n",
       " 1. Safe for discharge home today \n",
       " \n",
       " 2. Nil new discharge medications\n",
       " \tPain relief:\n",
       " \t- Please use simple analgesia - 1000mg paracetamol, four times a day, as needed\n",
       " \t- Follow up with your regular GP if you require further pain review\n",
       " \t\n",
       " 3. Follow up with regular GP within 3-5 days to review progress and medications \n",
       " \n",
       " 4. Follow up with regular GP next Wednesday the #### of August for clips out\n",
       " \n",
       " 5. Follow up with Dr ######## within 14 days \n",
       "  \t- Please call ######### 6921 to make an appointment \n",
       "  \t- Address: #############, Campbelltown NSW 2560 \n",
       " \n",
       " 6. Mr #####, please seek medical attention if you have any symptoms (e.g. bleeding, increasing pain, fevers) or concerns\n",
       " \n",
       " It has been pleasure taking care of Mr #####.\n",
       " \n",
       " Kind regards,\n",
       " \n",
       " ############\n",
       " Upper GI RMO \n",
       " on behalf of Dr. ######## \n",
       " Upper GI Consultant \n",
       " ##################### \n",
       " *******************************************************\n",
       " Operation Note \n",
       "  \n",
       " Date of Operation: ########## . \n",
       " Surgeons \n",
       " Surgeon Incharge: FEDORINE, SERGUEI.  Operating Surgeon(s) FEDORINE, SERGUEI  (Consultant).  Assisting Surgeon/s: ############  (Trainee Specialist).   \n",
       " Operation Status \n",
       " Unplanned return to operating theatre: No.  Operation Type: Elective.  Wound classification: Clean.   \n",
       " Indications/Background \n",
       " Previous incarcerated ventral hernia repair\n",
       " Presents for elective repair of recurrent ventral hernias - multiple defects\n",
       " Botox #### prior to procedure \n",
       " Primary Operation Performed \n",
       " Supine / GA / IV abx / TEDs & SCDs / NGT / IDC / Art line / Time out / Prep and drape\n",
       " \n",
       " Incision\n",
       " Midline laparotomy \n",
       " \n",
       " Findings\n",
       " Multiple ventral abdominal wall hernia defects, 10-12\n",
       " Containing small and large bowel \n",
       " All contents reduced once abdominal cavity opened\n",
       " Extensive, dense anterior and lateral wall adhesions\n",
       " \n",
       " Procedure\n",
       " Careful cut down in layers commencing cranial end of wound \n",
       " (Imaging demonstrated safest area for entry)\n",
       " Extensive adhesiolysis mobilising small and large bowel from abdominal wall\n",
       " Retrorectus space opened\n",
       " Transversus abdominus release performed\n",
       " Peritoneal defects closed with multiple  3-0 Maxon sutures\n",
       " Peritoneum closed with 0 PDS and pre-peritoneal plane established\n",
       " Then 30cm mesh placement as sublay into rectrorectus/pre-peritoneal space\n",
       " Mesh used was Phasix ST attached to Bard microporous sheet using sutures\n",
       " Wash and meticulous haemostasis\n",
       " Three JP drains inserted and secured with 2-0 Silk\n",
       "     1. RUQ - lies on top of mesh\n",
       "     2. LUQ - lies left side subcutaneous space\n",
       "     3. RLQ - lies right side subcutaneous space\n",
       " \n",
       " Closure \n",
       " Fascia closed with 1 PDS continuous\n",
       " Multiple interrupted 1 PDS sutures in between continuous\n",
       " Scarpas closed with 2-0 Vicryl\n",
       " Skin closed with clips\n",
       " Praveena dressing, seal achieved\n",
       "   \n",
       "                                                            Item Numbers: 30,655 , 30,725 .   \n",
       " No specimens sent to ######### \n",
       " Post Operative Orders \n",
       " Post GA obs\n",
       " Aim to ### - review in recovery\n",
       " NBM\n",
       " If extubated can have ice to suck\n",
       " NGT on free drain with q4hr aspirates\n",
       " Drains on suction please\n",
       " Strict drain outputs recorded please\n",
       " IDC output measurements please\n",
       " PCA for analgesia\n",
       " Commence DVT prophylaxis with Heparin 5000IU s/c from tonight\n",
       " TEDs and SCDs\n",
       " Bloods tomorrow please   \n",
       "   \n",
       " Summary of Progress   \n",
       " Dear Doctor,\n",
       " \n",
       " Thank you for your ongoing care of #################, a lovely 49 year old gentleman admitted to ##################### on the #### of ######### under the care of Dr ######## (Upper GI Surgical Consultant) for an elective repair of recurrent ventral hernias. The operation was performed on the #### of ######### without any intraoperative complications. Following the procedure, Mr ##### was remained on the ward for 8 days, where he received appropriate analgesia, anti-emetics, and DVT prophylaxis. His 3x JP drains and Prevena dressing were able to be removed with nil complications. He was able to be upgraded to a light diet with minimal pain and nausea at rest. \n",
       " \n",
       " Mr ##### was considered fit for discharge on the ##################, with the following,\n",
       " discharge plan - \n",
       " ,\n",
       " Discharge plan for Mr #####\n",
       " \n",
       " 1. Safe for discharge home today \n",
       " \n",
       " 2. Nil new discharge medications\n",
       " \tPain relief:\n",
       " \t- Please use simple analgesia - 1000mg paracetamol, four times a day, as needed\n",
       " \t- Follow up with your regular GP if you require further pain review\n",
       " \t\n",
       " 3. Follow up with regular GP within 3-5 days to review progress and medications \n",
       " \n",
       " 4. Follow up with Dr ######## in 10-14 days \n",
       "  \t- Please call ######### 6921 to make an appointment \n",
       "  \t- Address: #################################### \n",
       " \n",
       " 5. Mr #####, please seek medical attention if you have any symptoms (e.g. bleeding, increasing pain, fevers) or concerns\n",
       " \n",
       " It has been pleasure taking care of Mr #####.\n",
       " \n",
       " Kind regards,\n",
       " \n",
       " ############\n",
       " Upper GI RMO \n",
       " on behalf of Dr. ######## \n",
       " Upper GI Consultant \n",
       " ##################### \n",
       " *******************************************************\n",
       " Operation Note \n",
       "  \n",
       " Date of Operation: ########## . \n",
       " Surgeons \n",
       " Surgeon Incharge: FEDORINE, SERGUEI.  Operating Surgeon(s) FEDORINE, SERGUEI  (Consultant).  Assisting Surgeon/s: ############  (Trainee Specialist).   \n",
       " Operation Status \n",
       " Unplanned return to operating theatre: No.  Operation Type: Elective.  Wound classification: Clean.   \n",
       " Indications/Background \n",
       " Previous incarcerated ventral hernia repair\n",
       " Presents for elective repair of recurrent ventral hernias - multiple defects\n",
       " Botox #### prior to procedure \n",
       " Primary Operation Performed \n",
       " Supine / GA / IV abx / TEDs & SCDs / NGT / IDC / Art line / Time out / Prep and drape\n",
       " \n",
       " Incision\n",
       " Midline laparotomy \n",
       " \n",
       " Findings\n",
       " Multiple ventral abdominal wall hernia defects, 10-12\n",
       " Containing small and large bowel \n",
       " All contents reduced once abdominal cavity opened\n",
       " Extensive, dense anterior and lateral wall adhesions\n",
       " \n",
       " Procedure\n",
       " Careful cut down in layers commencing cranial end of wound \n",
       " (Imaging demonstrated safest area for entry)\n",
       " Extensive adhesiolysis mobilising small and large bowel from abdominal wall\n",
       " Retrorectus space opened\n",
       " Transversus abdominus release performed\n",
       " Peritoneal defects closed with multiple  3-0 Maxon sutures\n",
       " Peritoneum closed with 0 PDS and pre-peritoneal plane established\n",
       " Then 30cm mesh placement as sublay into rectrorectus/pre-peritoneal space\n",
       " Mesh used was Phasix ST attached to Bard microporous sheet using sutures\n",
       " Wash and meticulous haemostasis\n",
       " Three JP drains inserted and secured with 2-0 Silk\n",
       "     1. RUQ - lies on top of mesh\n",
       "     2. LUQ - lies left side subcutaneous space\n",
       "     3. RLQ - lies right side subcutaneous space\n",
       " \n",
       " Closure \n",
       " Fascia closed with 1 PDS continuous\n",
       " Multiple interrupted 1 PDS sutures in between continuous\n",
       " Scarpas closed with 2-0 Vicryl\n",
       " Skin closed with clips\n",
       " Praveena dressing, seal achieved\n",
       "   \n",
       "                                                            Item Numbers: 30,655 , 30,725 .   \n",
       " No specimens sent to ######### \n",
       " Post Operative Orders \n",
       " Post GA obs\n",
       " Aim to ### - review in recovery\n",
       " NBM\n",
       " If extubated can have ice to suck\n",
       " NGT on free drain with q4hr aspirates\n",
       " Drains on suction please\n",
       " Strict drain outputs recorded please\n",
       " IDC output measurements please\n",
       " PCA for analgesia\n",
       " Commence DVT prophylaxis with Heparin 5000IU s/c from tonight\n",
       " TEDs and SCDs\n",
       " Bloods tomorrow please   \n",
       "   \n",
       "  ,\n",
       " ALLERGIES & ADVERSE REACTIONS ,\n",
       " Allergies \n",
       " Allergic Reactions (Selected)\n",
       " Severity Not Documented\n",
       " Penicillin- No reactions were documented. \n",
       "  \n",
       " MEDICATIONS \n",
       "  \n",
       " Discharge Medications \n",
       " \n",
       " The hospital may have supplied small quantities of new or changed medicines \n",
       " \n",
       " Medication being taken on discharge \n",
       " \n",
       "  Empagliflozin-metformin  (Jardiamet 12.5 mg-1000 mg oral tablet)    1 tab, Oral, Tablet, 2 times a day\n",
       " \n",
       "  Paracetamol  (paracetamol 500 mg oral tablet)    2 tab, Oral, Tablet, 4 times a day, PRN for Pain,,\n",
       " Indication : pain\n",
       " \n",
       "  Telmisartan  (telmisartan 40 mg oral tablet)    1 tab, Oral, Tablet, in the morning\n",
       " \n",
       " Medication previously recorded that has not been reviewed during this visit \n",
       " Nil\n",
       " Medication ceased during this admission \n",
       " Nil \n",
       "  \n",
       " INTERVENTION & RESULTS \n",
       "  \n",
       " Results \n",
       " ########## 08:01|Sodium|140 mmol/L|\n",
       " |Potassium|4.6 mmol/L|\n",
       " |Chloride|100 mmol/L|\n",
       " |Bicarbonate|31 mmol/L|\n",
       " |Urea|2.9 mmol/L  LOW|\n",
       " |Creatinine|61 ï¿½mol/L|\n",
       " |Estimated GFR|>90 mL/min/1.73mï¿½|\n",
       " |Bilirubin Total|7 ï¿½mol/L|\n",
       " |Albumin|31 g/L  LOW|\n",
       " |Protein|62 g/L|\n",
       " |ALP|79 U/L|\n",
       " |Gamma GT|21 U/L|\n",
       " |ALT|42 U/L|\n",
       " |AST|29 U/L|\n",
       " |Calcium|2.22 mmol/L|\n",
       " |Corrected Calcium|2.40 mmol/L|\n",
       " |Magnesium|0.83 mmol/L|\n",
       " |Phosphate|0.88 mmol/L|\n",
       " |WCC|6.5 x10^9/L|\n",
       " |HB|134 g/L|\n",
       " |PLT|297 x10^9/L|\n",
       " |PCV|0.39 L/L  LOW|\n",
       " |MCV|90 fL|\n",
       " |RCC|4.31 x10^12/L  LOW|\n",
       " |MCH|31.1 pg|\n",
       " |MCHC|344 g/L|\n",
       " |RDW|13.3 %|\n",
       " |Neutrophils|4.6 x10^9/L|\n",
       " |Lymphocytes|1.2 x10^9/L|\n",
       " |Monocytes|0.6 x10^9/L|\n",
       " |Eosinophils|0.2 x10^9/L|\n",
       " |Basophils|0.0 x10^9/L|\n",
       " |Normoblast|0.01 x10^9/L  NA|\n",
       " |Blood Film|Film Not Reviewed|\n",
       " |C Reactive Protein|76.7 mg/L  HI|\n",
       " ########## 14:12|Resp Culture|NEG|\n",
       " ########## 14:00|Respiratory Pathogen DNA/RNA Source|Nose and Throat|\n",
       " |Respiratory Influenza A RNA|Not Detected|\n",
       " |Respiratory Influenza B RNA|Not Detected|\n",
       " |Respiratory Syncytial Virus RNA|Not Detected|\n",
       " |Respiratory Adenovirus DNA|Not Detected|\n",
       " |Respiratory Metapneumovirus RNA|Not Detected|\n",
       " |Respiratory Parainfluenza 1 RNA|Not Detected|\n",
       " |Respiratory Parainfluenza 2 RNA|Not Detected|\n",
       " |Respiratory Parainfluenza 3 RNA|Not Detected|\n",
       " |Respiratory Parainfluenza 4 RNA|Not Detected|\n",
       " |Respiratory Rhino/Enterovirus RNA|Not Detected|\n",
       " ########## 13:50|Urine Culture|NEG|\n",
       " |Urine Microscopy White Cell Count|10-100 x10^6/L|\n",
       " |Urine Microscopy Red Cell Count|>100 x10^6/L|\n",
       " |Urine Microscopy Epithelial Cell Count|<10 x10^6/L|\n",
       " ########## 07:27|WCC|6.9 x10^9/L|\n",
       " |C Reactive Protein|233.5 mg/L  HI|\n",
       " ########## 07:28|Sodium|136 mmol/L|\n",
       " |Potassium|4.4 mmol/L|\n",
       " |Chloride|100 mmol/L|\n",
       " |Bicarbonate|28 mmol/L|\n",
       " |Urea|5.0 mmol/L|\n",
       " |Creatinine|64 ï¿½mol/L|\n",
       " |Estimated GFR|>90 mL/min/1.73mï¿½|\n",
       " |Bilirubin Total|16 ï¿½mol/L|\n",
       " |Albumin|33 g/L|\n",
       " |Protein|56 g/L  LOW|\n",
       " |ALP|60 U/L|\n",
       " |Gamma GT|12 U/L|\n",
       " |ALT|32 U/L|\n",
       " |AST|21 U/L|\n",
       " |Calcium|2.15 mmol/L|\n",
       " |Corrected Calcium|2.29 mmol/L|\n",
       " |Magnesium|0.82 mmol/L|\n",
       " |Phosphate|0.82 mmol/L|\n",
       " |WCC|7.0 x10^9/L|\n",
       " |HB|140 g/L|\n",
       " |PLT|167 x10^9/L|\n",
       " |PCV|0.40 L/L|\n",
       " |MCV|89 fL|\n",
       " |RCC|4.54 x10^12/L|\n",
       " |MCH|30.8 pg|\n",
       " |MCHC|347 g/L|\n",
       " |RDW|13.4 %|\n",
       " |Neutrophils|5.3 x10^9/L|\n",
       " |Lymphocytes|0.9 x10^9/L  LOW|\n",
       " |Monocytes|0.8 x10^9/L|\n",
       " |Eosinophils|0.0 x10^9/L|\n",
       " |Basophils|0.0 x10^9/L|\n",
       " |Normoblast|0.00 x10^9/L  NA|\n",
       " |Blood Film|Film Not Reviewed|\n",
       " |C Reactive Protein|121.9 mg/L  HI|\n",
       "  \n",
       "  \n",
       " Medical Imaging   \n",
       " X-Ray Chest\n",
       " ##########, 12:33 PM\n",
       " \n",
       " Reason for examination: \n",
       " CH: Septic screen\n",
       " GCH: # R 3rd & 4TH Proximal Phalanges\n",
       "  \n",
       " The heart size is within normal limits.\n",
       " The lungs and pleural spaces are clear.\n",
       " The nasogastric tube is noted in position.\n",
       " There are minor atelectatic changes at both lung bases\n",
       " \n",
       " X-Ray Chest\n",
       " ##########, 6:05 PM\n",
       " \n",
       " Reason for examination: \n",
       " CH: 49 M recurrent fevers\n",
       " ? chest source\n",
       " GCH: # R 3rd & 4TH Proximal Phalanges\n",
       "  \n",
       " PA erect Chest Xray \n",
       " Heart size is normal . The cardiomediastinal contour is within normal limits. Bands of atelectasis extending from the left upper zone to left mid zone and left mid zone to the left lower zone. Atelectasis also seen in the right lower zone. No focal consolidation, sizeable pleural effusion or pneumothorax.\n",
       "   \n",
       "  \n",
       " Number of copies to print:  2]"
      ]
     },
     "execution_count": 19,
     "metadata": {},
     "output_type": "execute_result"
    }
   ],
   "source": [
    "doc._.section_spans"
   ]
  },
  {
   "cell_type": "code",
   "execution_count": null,
   "metadata": {
    "id": "1AOugV0dIck2"
   },
   "outputs": [],
   "source": [
    "\n",
    "import re\n",
    "def preprocess(x):\n",
    "    y=re.sub('\\[(.*?)\\]','',x) #remove de-identified brackets\n",
    "    y=re.sub('[0-9]+\\.','',y) #remove 1.2. since the segmenter segments based on this\n",
    "    y=re.sub('dr\\.','doctor',y)\n",
    "    y=re.sub('m\\.d\\.','md',y)\n",
    "    y=re.sub('admission date:','',y)\n",
    "    y=re.sub('Admission Date:','',y)\n",
    "    y=re.sub('discharge date:','',y)\n",
    "    y=re.sub('Discharge Date:','',y)\n",
    "    y=re.sub('Date of Birth:','',y)\n",
    "    y=re.sub('date of birth:','',y)\n",
    "    y=re.sub('--|__|==','',y)\n",
    "    y = y.strip()\n",
    "    return y"
   ]
  },
  {
   "cell_type": "code",
   "execution_count": null,
   "metadata": {
    "id": "jmtPsg_WwVEG"
   },
   "outputs": [],
   "source": [
    "\n",
    "ls_notes=[]\n",
    "for j in range(len(doc._.sections)):\n",
    "          mystr=str(doc._.section_spans[j])\n",
    "          mystr_Wothout_line=preprocess(mystr)\n",
    "          ls_notes.append([HADM_ID,CHARTDATE,CATEGORY,mystr_Wothout_line,doc._.section_categories[j]])\n",
    "\n",
    "df2=pd.DataFrame(ls_notes,columns=[\"HADM_ID\",'CHARTDATE','CATEGORY',\"body_span_Wothout_line\",'category'])\n",
    "\n",
    "df2"
   ]
  },
  {
   "cell_type": "markdown",
   "metadata": {
    "id": "3Eb_S-OAYFpO"
   },
   "source": [
    "Step 2 : Finding CUI from each section text"
   ]
  },
  {
   "cell_type": "code",
   "execution_count": null,
   "metadata": {
    "id": "NWa4M3O6ijv2"
   },
   "outputs": [],
   "source": [
    "!pip install scispacy"
   ]
  },
  {
   "cell_type": "code",
   "execution_count": null,
   "metadata": {
    "id": "mCe8I_9nAzC1"
   },
   "outputs": [],
   "source": [
    "!pip install negspacy"
   ]
  },
  {
   "cell_type": "code",
   "execution_count": null,
   "metadata": {
    "id": "28JGe_NWBFan"
   },
   "outputs": [],
   "source": [
    "!python -m spacy download en_core_web_sm"
   ]
  },
  {
   "cell_type": "code",
   "execution_count": null,
   "metadata": {
    "id": "V2SM7v3vEJO6"
   },
   "outputs": [],
   "source": [
    "CATEGORY='Discharge summary'\n",
    "HADM_ID=159647\n",
    "CHARTDATE='2146/07/28'"
   ]
  },
  {
   "cell_type": "code",
   "execution_count": null,
   "metadata": {
    "id": "honBb4ci1BQL"
   },
   "outputs": [],
   "source": [
    "import re\n",
    "\n",
    "import scispacy\n",
    "import spacy\n",
    "\n",
    "from negspacy.negation import Negex\n",
    "from negspacy.termsets import termset\n",
    "from scispacy.linking import EntityLinker\n",
    "import pandas as pd\n",
    "\n",
    "#nlp = spacy.load(\"en_ner_bc5cdr_md\")\n",
    "nlp = spacy.load(\"en_core_web_sm\")\n",
    "#\n",
    "ts = termset(\"en_clinical\")\n",
    "nlp.add_pipe(\"negex\", config={\"neg_termset\": ts.get_patterns()})\n",
    "nlp.add_pipe(\"scispacy_linker\", config={\"linker_name\": \"umls\", \"max_entities_per_mention\": 1})\n",
    "\n",
    "linker = nlp.get_pipe(\"scispacy_linker\")\n",
    "nlp.pipe_names"
   ]
  },
  {
   "cell_type": "code",
   "execution_count": null,
   "metadata": {
    "id": "nBuo-Z8k1BMv"
   },
   "outputs": [],
   "source": [
    "nlp.pipe_names"
   ]
  },
  {
   "cell_type": "code",
   "execution_count": null,
   "metadata": {
    "id": "iHXJSeSmFx_1"
   },
   "outputs": [],
   "source": [
    "text='Pt. is a 76 yo female with a history of ESRD on HD, CAD,atrial fibrillation, and DM2 who presents with a 1 day history of 3 episodes of nonbloody, nonbilious, clear emesis and 1  episode of nonbloody diarrhea.'"
   ]
  },
  {
   "cell_type": "code",
   "execution_count": null,
   "metadata": {
    "id": "q4EL11IUE2xG"
   },
   "outputs": [],
   "source": [
    "d = {'HADM_ID':159647, 'CHARTDATE': '2146/07/28','body_span_Wothout_line':text, 'category':'past_medical_history'}\n",
    "df = pd.DataFrame(data=d,index=[0])\n",
    "df"
   ]
  },
  {
   "cell_type": "code",
   "execution_count": null,
   "metadata": {
    "id": "CJ-vAPm31BFh"
   },
   "outputs": [],
   "source": [
    "list_Cui=[]\n",
    "list_Exception=[]\n",
    "\n",
    "\n",
    "\n",
    "for i in range(len(df)):\n",
    "            text= str(df.iloc[i]['body_span_Wothout_line'])\n",
    "            HADM_ID\t=df.iloc[i]['HADM_ID']\n",
    "            CHARTDATE\t=df.iloc[i]['CHARTDATE']\n",
    "\n",
    "            category_Inner=\tdf.iloc[i]['category']\n",
    "\n",
    "            doc = nlp(text)\n",
    "\n",
    "\n",
    "            print(\"\\n\")\n",
    "            for entity in doc.ents:\n",
    "\n",
    "                if(len(entity._.kb_ents)>0):\n",
    "                    first_cuid = entity._.kb_ents[0][0]\n",
    "                    kb_entry = linker.kb.cui_to_entity[first_cuid]\n",
    "                    list_Cui.append([HADM_ID,CHARTDATE,category_Inner,entity._.negex,entity.text,\n",
    "                                     first_cuid, kb_entry.canonical_name,entity.label_  ])\n",
    "                else:\n",
    "                    list_Exception.append([HADM_ID,CHARTDATE,category_Inner,entity.text])\n",
    "                    continue\n",
    "\n",
    "\n",
    "\n",
    "df_cui=pd.DataFrame(list_Cui,columns=['HADM_ID','CHARTDATE','category_Inner','negex','entity_text',\n",
    "                                      'first_cuid', 'canonical_name','label'\n",
    "                                          ])\n",
    "df_cui"
   ]
  }
 ],
 "metadata": {
  "colab": {
   "authorship_tag": "ABX9TyMmrwlf05Msoq9ml3wDowBC",
   "include_colab_link": true,
   "name": "NER.ipynb",
   "private_outputs": true,
   "provenance": []
  },
  "kernelspec": {
   "display_name": "Gen Simi Kernel",
   "language": "python",
   "name": "gensimi_kernal"
  },
  "language_info": {
   "codemirror_mode": {
    "name": "ipython",
    "version": 3
   },
   "file_extension": ".py",
   "mimetype": "text/x-python",
   "name": "python",
   "nbconvert_exporter": "python",
   "pygments_lexer": "ipython3",
   "version": "3.10.11"
  }
 },
 "nbformat": 4,
 "nbformat_minor": 4
}
